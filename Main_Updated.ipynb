{
 "cells": [
  {
   "cell_type": "code",
   "execution_count": null,
   "id": "98ee9e49-f84c-4594-b341-e09ae2484eca",
   "metadata": {},
   "outputs": [],
   "source": [
    "from torchvision import datasets\n",
    "from torchvision.transforms import ToTensor\n"
   ]
  },
  {
   "cell_type": "code",
   "execution_count": null,
   "id": "bdf88b27-ce1a-4eee-87c9-466041681775",
   "metadata": {},
   "outputs": [],
   "source": [
    "train_data = datasets.MNIST(\n",
    "    root= 'data',\n",
    "    train = True,\n",
    "    transform = ToTensor(),\n",
    "    download = True\n",
    ")\n",
    "\n",
    "test_data = datasets.MNIST(\n",
    "    root= 'data',\n",
    "    train = False,\n",
    "    transform = ToTensor(),\n",
    "    download = True\n",
    ")"
   ]
  },
  {
   "cell_type": "code",
   "execution_count": null,
   "id": "9f151581-835c-47d8-8476-9902bf980573",
   "metadata": {},
   "outputs": [],
   "source": [
    "train_data"
   ]
  },
  {
   "cell_type": "code",
   "execution_count": null,
   "id": "bcbaa8d4-9b94-4adb-8881-8c3a37de2af7",
   "metadata": {},
   "outputs": [],
   "source": [
    "test_data"
   ]
  },
  {
   "cell_type": "code",
   "execution_count": null,
   "id": "3e285afb-c32b-43dd-88b4-957a0bc7d828",
   "metadata": {},
   "outputs": [],
   "source": [
    "train_data.data.shape"
   ]
  },
  {
   "cell_type": "code",
   "execution_count": null,
   "id": "de00c011-d9ad-4758-b296-4fe4d0ad87e3",
   "metadata": {},
   "outputs": [],
   "source": [
    "train_data.targets.size()"
   ]
  },
  {
   "cell_type": "code",
   "execution_count": null,
   "id": "1a9800c7-c2e4-4884-82d6-db9909027148",
   "metadata": {},
   "outputs": [],
   "source": [
    "train_data.targets"
   ]
  },
  {
   "cell_type": "code",
   "execution_count": null,
   "id": "5d33e039-23a2-4097-83ae-0e11085cf976",
   "metadata": {},
   "outputs": [],
   "source": [
    "from torch.utils.data import DataLoader\n",
    "loaders = {\n",
    "    'train': DataLoader(train_data, \n",
    "                        batch_size =100,\n",
    "                        shuffle=True,\n",
    "                        num_workers=1),\n",
    "\n",
    "    'test': DataLoader(test_data, \n",
    "                        batch_size =100,\n",
    "                        shuffle=True,\n",
    "                        num_workers=1),\n",
    "}"
   ]
  },
  {
   "cell_type": "code",
   "execution_count": null,
   "id": "24925fe6-8816-4244-9f7e-b18629fddb75",
   "metadata": {},
   "outputs": [],
   "source": [
    "import torch.nn as nn\n",
    "import torch.nn.functional as F\n",
    "\n",
    "class CNN(nn.Module):\n",
    "    def __init__(self):  # Fixed: double underscores __init__\n",
    "        super(CNN, self).__init__()  # Fixed: double underscores __init__\n",
    "        \n",
    "        self.conv1 = nn.Conv2d(1, 10, kernel_size=5)  # Fixed: conv1 (not convl)\n",
    "        self.conv2 = nn.Conv2d(10, 20, kernel_size=5)\n",
    "        self.conv2_drop = nn.Dropout2d()\n",
    "        self.fc1 = nn.Linear(320, 50)\n",
    "        self.fc2 = nn.Linear(50, 10)\n",
    "    \n",
    "    def forward(self, x):  # Fixed: Proper indentation (was inside __init__)\n",
    "        x = F.relu(F.max_pool2d(self.conv1(x), 2))\n",
    "        x = F.relu(F.max_pool2d(self.conv2_drop(self.conv2(x)), 2))\n",
    "        x = x.view(-1, 320)\n",
    "        x = F.relu(self.fc1(x))\n",
    "        x = F.dropout(x, training=self.training)\n",
    "        x = self.fc2(x)\n",
    "        return F.log_softmax(x, dim=1)  # Changed to log_softmax with dim"
   ]
  },
  {
   "cell_type": "code",
   "execution_count": null,
   "id": "a1c5a4da-4d3f-4aba-9c10-698c93333a3b",
   "metadata": {},
   "outputs": [],
   "source": [
    "import torch\n",
    "device = torch.device('cuda' if torch.cuda.is_available() else 'cpu')\n",
    "model = CNN().to(device)\n",
    "\n",
    "optimizer = optim.Adam(model.parameters(), lr=0.001)\n",
    "\n",
    "loss_fn = nn.CrossEntropyLoss()\n",
    "\n",
    "def train(epoch):\n",
    "    model.train()\n",
    "    for batch_idx, (data, target) in enumerate(loaders['train']):\n",
    "        data, target = data.to(device), target.to(device)\n",
    "        optimizer.zero_grad()\n",
    "        output = model(data)\n",
    "        loss = loss_fn(output, target)\n",
    "        loss.backward()\n",
    "        optimizer.step()\n",
    "        if batch_idx % 20 == 0:\n",
    "            print(f'Train Epoch: {epoch} [{batch_idx * len(data)}/{len(loaders[\"train\"].dataset)} ({100. * batch_idx / len(loaders[\"train\"]):.0f}%)]\\t{loss.item():.6f}')\n",
    "\n",
    "def test():\n",
    "    model.eval()\n",
    "    test_loss = 0\n",
    "    correct = 0\n",
    "\n",
    "    with torch.no_grad():\n",
    "        for data, target in loaders['test']:\n",
    "            data, target = data.to(device), target.to(device)\n",
    "            output = model(data)  # Fixed: This line was outside the for loop\n",
    "            test_loss += loss_fn(output, target).item() \n",
    "            pred = output.argmax(dim=1, keepdim=True)\n",
    "            correct += pred.eq(target.view_as(pred)).sum().item()  # Fixed: Added parentheses\n",
    "\n",
    "    test_loss /= len(loaders['test'].dataset)\n",
    "    print(f'\\nTest set: Average loss: {test_loss:.4f}, Accuracy: {correct}/{len(loaders[\"test\"].dataset)} ({100. * correct / len(loaders[\"test\"].dataset):.0f}%)\\n')"
   ]
  },
  {
   "cell_type": "code",
   "execution_count": null,
   "id": "4dfd5012-89db-4751-81ef-60cba48cc980",
   "metadata": {},
   "outputs": [],
   "source": [
    "for epoch in range(1,11):\n",
    "    train(epoch)\n",
    "    test()"
   ]
  },
  {
   "cell_type": "code",
   "execution_count": null,
   "id": "2d336860-d42b-4a68-b599-7f9227ab51d6",
   "metadata": {},
   "outputs": [],
   "source": [
    "device"
   ]
  },
  {
   "cell_type": "code",
   "execution_count": null,
   "id": "0d070193-5e18-4381-8483-5d3f7efe7c31",
   "metadata": {
    "scrolled": true
   },
   "outputs": [],
   "source": [
    "import matplotlib.pyplot as plt\n",
    "model.eval()\n",
    "\n",
    "data,target = test_data[4] #modify this to get different results\n",
    "\n",
    "data = data.unsqueeze(0).to(device)\n",
    "\n",
    "output = model(data)\n",
    "prediction = output.argmax(dim =1, keepdim= True).item()\n",
    "\n",
    "print('Prediction: {prediction}')\n",
    "\n",
    "image = data.squeeze(0).squeeze(0).cpu().numpy()\n",
    "\n",
    "plt.imshow(image, cmap='gray')\n",
    "plt.show()\n"
   ]
  },
  {
   "cell_type": "code",
   "execution_count": null,
   "id": "31145908-58f2-4421-a9a3-0fcb691ee26a",
   "metadata": {
    "scrolled": true
   },
   "outputs": [],
   "source": [
    "import matplotlib.pyplot as plt\n",
    "model.eval()\n",
    "data, target = test_data[8]  # Replace '4' with your desired index\n",
    "data = data.unsqueeze(0).to(device)  # Add batch dimension\n",
    "output = model(data)\n",
    "prediction = output.argmax(dim=1).item()\n",
    "print(f\"Model Prediction: {prediction}, True Label: {target}\")\n",
    "\n",
    "image = data.squeeze(0).squeeze(0).cpu().numpy()\n",
    "\n",
    "plt.imshow(image, cmap='gray')\n",
    "plt.show()"
   ]
  },
  {
   "cell_type": "code",
   "execution_count": 6,
   "id": "f1de3dff-ab27-4ff0-b420-955383273b0e",
   "metadata": {},
   "outputs": [
    {
     "data": {
      "image/png": "[encoded data removed]",
      "text/plain": [
       "<Figure size 640x480 with 1 Axes>"
      ]
     },
     "metadata": {},
     "output_type": "display_data"
    },
    {
     "ename": "NameError",
     "evalue": "name 'CNN' is not defined",
     "output_type": "error",
     "traceback": [
      "\u001b[31m---------------------------------------------------------------------------\u001b[39m",
      "\u001b[31mNameError\u001b[39m                                 Traceback (most recent call last)",
      "\u001b[36mCell\u001b[39m\u001b[36m \u001b[39m\u001b[32mIn[6]\u001b[39m\u001b[32m, line 48\u001b[39m\n\u001b[32m     45\u001b[39m         \u001b[38;5;28;01mreturn\u001b[39;00m x\n\u001b[32m     47\u001b[39m device = torch.device(\u001b[33m'\u001b[39m\u001b[33mcuda\u001b[39m\u001b[33m'\u001b[39m \u001b[38;5;28;01mif\u001b[39;00m torch.cuda.is_available() \u001b[38;5;28;01melse\u001b[39;00m \u001b[33m'\u001b[39m\u001b[33mcpu\u001b[39m\u001b[33m'\u001b[39m)\n\u001b[32m---> \u001b[39m\u001b[32m48\u001b[39m model = \u001b[43mCNN\u001b[49m().to(device)  \u001b[38;5;66;03m# Change to CNN\u001b[39;00m\n\u001b[32m     49\u001b[39m MODEL_PATH = \u001b[33m'\u001b[39m\u001b[33mmnist_cnn.pth\u001b[39m\u001b[33m'\u001b[39m\n\u001b[32m     51\u001b[39m \u001b[38;5;66;03m# 4. Train the model if not already saved\u001b[39;00m\n",
      "\u001b[31mNameError\u001b[39m: name 'CNN' is not defined"
     ]
    }
   ],
   "source": [
    "# upload the images on jupyter manually, then run the code make sure you changed the image file name \n",
    "\n",
    "import torch\n",
    "import torch.nn as nn\n",
    "import torch.nn.functional as F\n",
    "import torchvision.transforms as transforms\n",
    "from PIL import Image\n",
    "import matplotlib.pyplot as plt\n",
    "import os\n",
    "\n",
    "# 1. Load and display your image\n",
    "img = Image.open('3.png.png').convert('L').resize((28, 28))\n",
    "\n",
    "# If your digit is white on black, uncomment the next two lines:\n",
    "# import PIL.ImageOps\n",
    "# img = PIL.ImageOps.invert(img)\n",
    "\n",
    "plt.imshow(img, cmap='gray')\n",
    "plt.title(\"Your Uploaded Image\")\n",
    "plt.axis('off')\n",
    "plt.show()\n",
    "\n",
    "# 2. Preprocess the image\n",
    "transform = transforms.Compose([\n",
    "    transforms.ToTensor(),\n",
    "    transforms.Normalize((0.1307,), (0.3081,))\n",
    "])\n",
    "tensor_img = transform(img).unsqueeze(0)\n",
    "\n",
    "# 3. Define the simple MNIST model\n",
    "class Net(nn.Module):\n",
    "    def _init_(self):\n",
    "        super(Net, self)._init_()\n",
    "        self.conv1 = nn.Conv2d(1, 10, kernel_size=5)\n",
    "        self.conv2 = nn.Conv2d(10, 20, kernel_size=5)\n",
    "        self.fc1 = nn.Linear(320, 50)\n",
    "        self.fc2 = nn.Linear(50, 10)\n",
    "\n",
    "    def forward(self, x):\n",
    "        x = F.relu(F.max_pool2d(self.conv1(x), 2))\n",
    "        x = F.relu(F.max_pool2d(self.conv2(x), 2))\n",
    "        x = x.view(-1, 320)\n",
    "        x = F.relu(self.fc1(x))\n",
    "        x = self.fc2(x)\n",
    "        return x\n",
    "\n",
    "device = torch.device('cuda' if torch.cuda.is_available() else 'cpu')\n",
    "model = CNN().to(device)  # Change to CNN\n",
    "MODEL_PATH = 'mnist_cnn.pth'\n",
    "\n",
    "# 4. Train the model if not already saved\n",
    "if os.path.exists(MODEL_PATH):\n",
    "    model.load_state_dict(torch.load(MODEL_PATH, map_location=device))\n",
    "    print(\"Loaded pre-trained model from mnist_cnn.pth\")\n",
    "else:\n",
    "    print(\"No pre-trained model found. Training a model for 10 epochs (may take several minutes)...\")\n",
    "    import torchvision\n",
    "    from torch.utils.data import DataLoader\n",
    "    train_dataset = torchvision.datasets.MNIST('.', train=True, download=True,\n",
    "                                               transform=transforms.Compose([\n",
    "                                                   transforms.ToTensor(),\n",
    "                                                   transforms.Normalize((0.1307,), (0.3081,))\n",
    "                                               ]))\n",
    "    train_loader = DataLoader(train_dataset, batch_size=64, shuffle=True)\n",
    "    optimizer = torch.optim.Adam(model.parameters())\n",
    "    model.train()\n",
    "    for epoch in range(10):  # Train for 10 epochs!\n",
    "        running_loss = 0.0\n",
    "        for batch_idx, (data, target) in enumerate(train_loader):\n",
    "            data, target = data.to(device), target.to(device)\n",
    "            optimizer.zero_grad()\n",
    "            output = model(data)\n",
    "            loss = F.cross_entropy(output, target)\n",
    "            loss.backward()\n",
    "            optimizer.step()\n",
    "            running_loss += loss.item()\n",
    "        print(f\"Epoch {epoch+1}/10, Loss: {running_loss/len(train_loader):.4f}\")\n",
    "    torch.save(model.state_dict(), MODEL_PATH)\n",
    "    print(\"Model trained and saved as mnist_cnn.pth!\")\n",
    "\n",
    "# 5. Predict the digit\n",
    "model.eval()\n",
    "with torch.no_grad():\n",
    "    output = model(tensor_img.to(device))\n",
    "    pred = output.argmax(dim=1, keepdim=True).item()\n",
    "print(f\"Predicted digit: {pred}\")"
   ]
  },
  {
   "cell_type": "code",
   "execution_count": 11,
   "id": "c0af6b37-908f-44c4-8287-60331513c29f",
   "metadata": {},
   "outputs": [
    {
     "name": "stdout",
     "output_type": "stream",
     "text": [
      "Loaded pre-trained model from mnist_cnn.pth\n"
     ]
    },
    {
     "data": {
      "image/png": "[encoded data removed]",
      "text/plain": [
       "<Figure size 640x480 with 1 Axes>"
      ]
     },
     "metadata": {},
     "output_type": "display_data"
    },
    {
     "name": "stdout",
     "output_type": "stream",
     "text": [
      "Predicted digit: 7\n"
     ]
    }
   ],
   "source": [
    "import torch\n",
    "import torch.nn as nn\n",
    "import torch.nn.functional as F\n",
    "import torchvision.transforms as transforms\n",
    "from PIL import Image\n",
    "import matplotlib.pyplot as plt\n",
    "import os\n",
    "\n",
    "# Your CNN model definition\n",
    "class CNN(nn.Module):\n",
    "    def __init__(self):\n",
    "        super(CNN, self).__init__()\n",
    "        self.conv1 = nn.Conv2d(1, 10, kernel_size=5)\n",
    "        self.conv2 = nn.Conv2d(10, 20, kernel_size=5)\n",
    "        self.conv2_drop = nn.Dropout2d()\n",
    "        self.fc1 = nn.Linear(320, 50)\n",
    "        self.fc2 = nn.Linear(50, 10)\n",
    "    \n",
    "    def forward(self, x):\n",
    "        x = F.relu(F.max_pool2d(self.conv1(x), 2))\n",
    "        x = F.relu(F.max_pool2d(self.conv2_drop(self.conv2(x)), 2))\n",
    "        x = x.view(-1, 320)\n",
    "        x = F.relu(self.fc1(x))\n",
    "        x = F.dropout(x, training=self.training)\n",
    "        x = self.fc2(x)\n",
    "        return F.log_softmax(x, dim=1)\n",
    "\n",
    "# Function to load and preprocess image\n",
    "def load_and_preprocess_image(image_path):\n",
    "    # Load image and convert to grayscale\n",
    "    img = Image.open(image_path).convert('L').resize((28, 28))\n",
    "    \n",
    "    # If your digit is white on black, uncomment the next line:\n",
    "    # img = ImageOps.invert(img)\n",
    "    \n",
    "    # Display the image\n",
    "    plt.imshow(img, cmap='gray')\n",
    "    plt.title(\"Uploaded Image\")\n",
    "    plt.axis('off')\n",
    "    plt.show()\n",
    "    \n",
    "    # Preprocess the image\n",
    "    transform = transforms.Compose([\n",
    "        transforms.ToTensor(),\n",
    "        transforms.Normalize((0.1307,), (0.3081,))\n",
    "    ])\n",
    "    return transform(img).unsqueeze(0)  # Add batch dimension\n",
    "\n",
    "# Main prediction function\n",
    "def predict_digit(image_path):\n",
    "    # Set device\n",
    "    device = torch.device('cuda' if torch.cuda.is_available() else 'cpu')\n",
    "    \n",
    "    # Initialize model\n",
    "    model = CNN().to(device)\n",
    "    MODEL_PATH = 'mnist_cnn.pth'\n",
    "    \n",
    "    # Load or train model\n",
    "    if os.path.exists(MODEL_PATH):\n",
    "        model.load_state_dict(torch.load(MODEL_PATH, map_location=device))\n",
    "        print(\"Loaded pre-trained model from mnist_cnn.pth\")\n",
    "    else:\n",
    "        print(\"No pre-trained model found. Training a new model...\")\n",
    "        model = train_model(model, device)\n",
    "    \n",
    "    # Preprocess image\n",
    "    tensor_img = load_and_preprocess_image(image_path)\n",
    "    \n",
    "    # Make prediction\n",
    "    model.eval()\n",
    "    with torch.no_grad():\n",
    "        output = model(tensor_img.to(device))\n",
    "        pred = output.argmax(dim=1, keepdim=True).item()\n",
    "    \n",
    "    print(f\"Predicted digit: {pred}\")\n",
    "    #return pred\n",
    "\n",
    "#TEST HERE - change image here\n",
    "predict_digit('7.png.png')\n"
   ]
  },
  {
   "cell_type": "code",
   "execution_count": null,
   "id": "f7118ca7-b439-44c6-9fb1-96c69a48f7d4",
   "metadata": {},
   "outputs": [],
   "source": []
  }
 ],
 "metadata": {
  "kernelspec": {
   "display_name": "Python 3 (ipykernel)",
   "language": "python",
   "name": "python3"
  },
  "language_info": {
   "codemirror_mode": {
    "name": "ipython",
    "version": 3
   },
   "file_extension": ".py",
   "mimetype": "text/x-python",
   "name": "python",
   "nbconvert_exporter": "python",
   "pygments_lexer": "ipython3",
   "version": "3.13.5"
  }
 },
 "nbformat": 4,
 "nbformat_minor": 5
}
